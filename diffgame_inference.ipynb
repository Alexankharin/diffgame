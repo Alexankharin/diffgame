{
 "cells": [
  {
   "cell_type": "code",
   "execution_count": 1,
   "id": "d1fd37e5",
   "metadata": {},
   "outputs": [],
   "source": [
    "import numpy as np\n",
    "import pandas as pd\n",
    "import os\n",
    "from natsort import natsorted \n",
    "from PIL import Image\n",
    "import PySimpleGUI as sg\n",
    "import cv2"
   ]
  },
  {
   "cell_type": "code",
   "execution_count": 2,
   "id": "24c00ae7",
   "metadata": {},
   "outputs": [],
   "source": [
    "MAXNUM=200\n",
    "movies=pd.read_csv('imdb (1000 movies) in june 2022.csv')[:MAXNUM]\n",
    "names=movies['movie name\\r\\n']\n",
    "imagenames=natsorted(os.listdir('1000movies/'))[:MAXNUM]\n",
    "simmmatrix=np.load('moivieSimilarity.npy')[:MAXNUM,:MAXNUM]"
   ]
  },
  {
   "cell_type": "code",
   "execution_count": 3,
   "id": "a9413d4c",
   "metadata": {},
   "outputs": [],
   "source": [
    "def get_question():\n",
    "    num=np.random.randint(MAXNUM-1)\n",
    "    answer=names[num]\n",
    "    image=cv2.imread('1000movies/'+imagenames[num])\n",
    "    topk=np.argpartition(simmmatrix[num], -4)[-4:]\n",
    "    proposals=list(names[topk])\n",
    "    if answer not in proposals:\n",
    "        proposals[np.random.randint(4)]=answer\n",
    "    return image, proposals, answer"
   ]
  },
  {
   "cell_type": "code",
   "execution_count": 4,
   "id": "73b4c8f6",
   "metadata": {},
   "outputs": [],
   "source": [
    "sg.theme('DarkAmber')\n",
    "layout = [[sg.Image(filename=\"\", key=\"-IMAGE-\")],\n",
    "          [sg.Button('1',key='1'), \n",
    "   sg.Button('2',key='2')], \n",
    "   [sg.Button('3',key='3'),  \n",
    "   sg.Button('4',key='4')],\n",
    "   [sg.Text('Answer',key='Answer')],]\n",
    "window = sg.Window('Quiz', layout)"
   ]
  },
  {
   "cell_type": "code",
   "execution_count": 5,
   "id": "ec01110b",
   "metadata": {},
   "outputs": [],
   "source": [
    "def changeimage(window,key,img):\n",
    "    imgbytes = cv2.imencode(\".png\", cv2.resize(img,(512,512)))[1].tobytes()\n",
    "    window[key].update(data=imgbytes)\n",
    "def setbuttons(window,proposals):\n",
    "    for i ,prop in enumerate(proposals):\n",
    "        window[str(i+1)].update(prop)"
   ]
  },
  {
   "cell_type": "code",
   "execution_count": 6,
   "id": "19f72376",
   "metadata": {},
   "outputs": [
    {
     "name": "stdout",
     "output_type": "stream",
     "text": [
      "Incendies\n",
      "Jai Bhim\n",
      "Dersu Uzala\n",
      "Paths of Glory\n",
      "The Pianist\n",
      "Green Book\n",
      "The Godfather Part II\n",
      "Joker\n",
      "Yojimbo\n",
      "There Will Be Blood\n",
      "Seven Samurai\n",
      "Scarface\n",
      "No Country for Old Men\n",
      "Downfall\n",
      "The Prestige\n",
      "Das Boot\n",
      "Kill Bill: Vol. 1\n",
      "The Sting\n",
      "The Apartment\n",
      "Dangal\n",
      "All About Eve\n",
      "Your Name.\n",
      "Reservoir Dogs\n",
      "WALL·E\n",
      "Star Wars: Episode V - The Empire Strikes Back\n"
     ]
    }
   ],
   "source": [
    "event, values = window.read()\n",
    "image,proposals,answer=get_question()\n",
    "changeimage(window,'-IMAGE-',image)\n",
    "while True:\n",
    "    event, values = window.read()\n",
    "    if event == sg.WIN_CLOSED or event == 'Cancel': \n",
    "        break\n",
    "    if event in ['1','2','3','4']:\n",
    "        window['Answer'].update(answer)\n",
    "        if answer==proposals[int(event)-1]:\n",
    "            window['Answer'].update(background_color='green')\n",
    "        else:\n",
    "            window['Answer'].update(background_color='red')\n",
    "        image,proposals,answer=get_question()\n",
    "        changeimage(window,'-IMAGE-',image)\n",
    "        setbuttons(window,proposals)"
   ]
  },
  {
   "cell_type": "code",
   "execution_count": 7,
   "id": "1e1319f1",
   "metadata": {},
   "outputs": [
    {
     "ename": "AttributeError",
     "evalue": "'Button' object has no attribute 'label'",
     "output_type": "error",
     "traceback": [
      "\u001b[1;31m---------------------------------------------------------------------------\u001b[0m",
      "\u001b[1;31mAttributeError\u001b[0m                            Traceback (most recent call last)",
      "Input \u001b[1;32mIn [7]\u001b[0m, in \u001b[0;36m<cell line: 1>\u001b[1;34m()\u001b[0m\n\u001b[1;32m----> 1\u001b[0m \u001b[43mwindow\u001b[49m\u001b[43m[\u001b[49m\u001b[38;5;28;43mstr\u001b[39;49m\u001b[43m(\u001b[49m\u001b[38;5;241;43m1\u001b[39;49m\u001b[43m)\u001b[49m\u001b[43m]\u001b[49m\u001b[38;5;241;43m.\u001b[39;49m\u001b[43mlabel\u001b[49m\n",
      "\u001b[1;31mAttributeError\u001b[0m: 'Button' object has no attribute 'label'"
     ]
    }
   ],
   "source": [
    "window[str(1)].label"
   ]
  }
 ],
 "metadata": {
  "kernelspec": {
   "display_name": "Python 3 (ipykernel)",
   "language": "python",
   "name": "python3"
  },
  "language_info": {
   "codemirror_mode": {
    "name": "ipython",
    "version": 3
   },
   "file_extension": ".py",
   "mimetype": "text/x-python",
   "name": "python",
   "nbconvert_exporter": "python",
   "pygments_lexer": "ipython3",
   "version": "3.10.5"
  }
 },
 "nbformat": 4,
 "nbformat_minor": 5
}
